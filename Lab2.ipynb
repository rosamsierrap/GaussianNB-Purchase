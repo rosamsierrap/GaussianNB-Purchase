{
 "cells": [
  {
   "cell_type": "markdown",
   "metadata": {},
   "source": [
    "Rosa Maria Sierra Peña // Lab 2"
   ]
  },
  {
   "cell_type": "code",
   "execution_count": 3,
   "metadata": {},
   "outputs": [],
   "source": [
    "import numpy as np\n",
    "import pandas as pd\n",
    "import matplotlib.pyplot as plt\n",
    "import seaborn as sns\n",
    "\n",
    "from sklearn import preprocessing"
   ]
  },
  {
   "cell_type": "markdown",
   "metadata": {},
   "source": [
    "Exercise 1. Buying computer"
   ]
  },
  {
   "cell_type": "code",
   "execution_count": 2,
   "metadata": {},
   "outputs": [],
   "source": [
    "#Step1: Data Entry\n",
    "age = ['<=30', '<=30', '31…40', '>40', '>40', '>40', '31…40', '<=30', '<=30', '>40', '<=30', '31…40', '31…40', '>40']\n",
    "income = ['high', 'high', 'high', 'medium', 'low', 'low', 'low', 'medium', 'low', 'medium', 'medium', 'medium', 'high', 'medium']\n",
    "student = ['no', 'no', 'no', 'no', 'yes', 'yes', 'yes', 'no', 'yes', 'yes', 'yes', 'no', 'yes', 'no']\n",
    "credit_rating = ['fair', 'excellent', 'fair', 'fair', 'fair', 'excellent', 'excellent', 'fair', 'fair', 'fair', 'excellent', 'excellent', 'fair', 'excellent']\n",
    "buys_computer = ['no', 'no', 'yes', 'yes', 'yes', 'no', 'yes', 'no', 'yes', 'yes', 'yes', 'yes', 'yes', 'no']"
   ]
  },
  {
   "cell_type": "code",
   "execution_count": 8,
   "metadata": {},
   "outputs": [
    {
     "name": "stdout",
     "output_type": "stream",
     "text": [
      "[1 1 0 2 2 2 0 1 1 2 1 0 0 2]\n",
      "[0 0 0 2 1 1 1 2 1 2 2 2 0 2]\n",
      "[0 0 0 0 1 1 1 0 1 1 1 0 1 0]\n",
      "[1 0 1 1 1 0 0 1 1 1 0 0 1 0]\n",
      "[0 0 1 1 1 0 1 0 1 1 1 1 1 0]\n"
     ]
    }
   ],
   "source": [
    "#Step2: Encode the variables\n",
    "le = preprocessing.LabelEncoder()\n",
    "Age_encoded=le.fit_transform(age)\n",
    "Income_encoded=le.fit_transform(income)\n",
    "Student_encoded=le.fit_transform(student)\n",
    "Credit_encoded=le.fit_transform(credit_rating)\n",
    "label= le.fit_transform(buys_computer)\n",
    "print(Age_encoded)\n",
    "print(Income_encoded)\n",
    "print(Student_encoded)\n",
    "print(Credit_encoded)\n",
    "print(label)"
   ]
  },
  {
   "cell_type": "markdown",
   "metadata": {},
   "source": [
    "Label Codes Meaning:\n",
    "Age: 0) 31..40 / 1) <=30 / 2) >40\n",
    "Income: 0)high / 1)low / 2) medium\n",
    "Student: 0)no / 1)yes\n",
    "Credit: 0)excellent / 1)fair\n",
    "Label: 0)no / 1)yes"
   ]
  },
  {
   "cell_type": "code",
   "execution_count": 9,
   "metadata": {},
   "outputs": [
    {
     "name": "stdout",
     "output_type": "stream",
     "text": [
      "[[1, 0, 0, 1], [1, 0, 0, 0], [0, 0, 0, 1], [2, 2, 0, 1], [2, 1, 1, 1], [2, 1, 1, 0], [0, 1, 1, 0], [1, 2, 0, 1], [1, 1, 1, 1], [2, 2, 1, 1], [1, 2, 1, 0], [0, 2, 0, 0], [0, 0, 1, 1], [2, 2, 0, 0]]\n"
     ]
    }
   ],
   "source": [
    "#Step2: Create an array of the features (x)\n",
    "features = []\n",
    "\n",
    "for i in range(len(Age_encoded)):\n",
    "  features.append([Age_encoded[i],\n",
    "                   Income_encoded[i],\n",
    "                   Student_encoded[i],\n",
    "                   Credit_encoded[i]\n",
    "                    ])\n",
    "print(features)"
   ]
  },
  {
   "cell_type": "code",
   "execution_count": 10,
   "metadata": {},
   "outputs": [
    {
     "data": {
      "text/plain": [
       "GaussianNB()"
      ]
     },
     "execution_count": 10,
     "metadata": {},
     "output_type": "execute_result"
    }
   ],
   "source": [
    "#Import Gaussian Naive Bayes model\n",
    "from sklearn.naive_bayes import GaussianNB\n",
    "\n",
    "#Create a Gaussian Classifier\n",
    "model = GaussianNB()\n",
    "\n",
    "# Train the model using the training sets\n",
    "model.fit(features,label)"
   ]
  },
  {
   "cell_type": "code",
   "execution_count": 12,
   "metadata": {},
   "outputs": [
    {
     "name": "stdout",
     "output_type": "stream",
     "text": [
      "Predicted Value: [0]\n",
      "The probability of 0(No) are: 0.6508949818483578\n",
      "The probability of 1(Si) are: 0.3491050181516421\n"
     ]
    }
   ],
   "source": [
    "#Predict some inputs\n",
    "predicted= model.predict([[1,0,0,1]])  #<=30,high,no,fair\n",
    "predicted2= model.predict_proba([[1,0,0,1]]) \n",
    "print(\"Predicted Value:\", predicted)\n",
    "print(\"The probability of 0(No) are:\", predicted2[0][0])\n",
    "print(\"The probability of 1(Yes) are:\", predicted2[0][1])"
   ]
  },
  {
   "cell_type": "markdown",
   "metadata": {},
   "source": [
    "For the Point1) who is eligible to buy a computer (buying_computer) (for example, if someone is 25 years old and their income is high, whether he can buy a computer)\n",
    "\n",
    "We need to train the model only on the features age and income:"
   ]
  },
  {
   "cell_type": "code",
   "execution_count": 13,
   "metadata": {},
   "outputs": [
    {
     "name": "stdout",
     "output_type": "stream",
     "text": [
      "[[1, 0], [1, 0], [0, 0], [2, 2], [2, 1], [2, 1], [0, 1], [1, 2], [1, 1], [2, 2], [1, 2], [0, 2], [0, 0], [2, 2]]\n"
     ]
    }
   ],
   "source": [
    "features = []\n",
    "\n",
    "for i in range(len(Age_encoded)):\n",
    "  features.append([Age_encoded[i],\n",
    "                   Income_encoded[i]\n",
    "                    ])\n",
    "print(features)"
   ]
  },
  {
   "cell_type": "code",
   "execution_count": 14,
   "metadata": {},
   "outputs": [
    {
     "data": {
      "text/plain": [
       "GaussianNB()"
      ]
     },
     "execution_count": 14,
     "metadata": {},
     "output_type": "execute_result"
    }
   ],
   "source": [
    "model.fit(features,label)"
   ]
  },
  {
   "cell_type": "code",
   "execution_count": 20,
   "metadata": {},
   "outputs": [
    {
     "name": "stdout",
     "output_type": "stream",
     "text": [
      "Predicted Value: [0]\n",
      "The probability of 0(No) are: 0.3958478887225518\n",
      "The probability of 1(Si) are: 0.6041521112774483\n"
     ]
    }
   ],
   "source": [
    "predicted= model.predict([[1,0]]) # 1:<=30, 0:High\n",
    "predicted2= model.predict_proba([[1,1]]) \n",
    "print(\"Predicted Value:\", predicted)\n",
    "print(\"The probability of 0(No) are:\", predicted2[0][0])\n",
    "print(\"The probability of 1(Yes) are:\", predicted2[0][1])"
   ]
  },
  {
   "cell_type": "markdown",
   "metadata": {},
   "source": [
    "Exercise 2. Play"
   ]
  },
  {
   "cell_type": "code",
   "execution_count": 1,
   "metadata": {},
   "outputs": [],
   "source": [
    "#Step 1: Data entry\n",
    "Outlook = ['sunny','sunny','overcast','rain','rain','rain','overcast','sunny','sunny','rain','sunny','overcast','overcast','rain']\n",
    "temperature = ['hot','hot','hot','mild','cold','cold','cold','mild','cold','mild','mild','mild','hot','mild']\n",
    "humidity = ['high','high','high','high','normal','normal','normal','high','normal','normal','normal','high','normal','high']\n",
    "windy = ['false','true','false','false','false','true','true','false','false','false','true','true','false','true']\n",
    "play = ['n','n','p','p','p','n','p','n','p','p','p','p','p','n']"
   ]
  },
  {
   "cell_type": "code",
   "execution_count": 4,
   "metadata": {},
   "outputs": [
    {
     "name": "stdout",
     "output_type": "stream",
     "text": [
      "[2 2 0 1 1 1 0 2 2 1 2 0 0 1]\n",
      "[1 1 1 2 0 0 0 2 0 2 2 2 1 2]\n",
      "[0 0 0 0 1 1 1 0 1 1 1 0 1 0]\n",
      "[0 1 0 0 0 1 1 0 0 0 1 1 0 1]\n",
      "[0 0 1 1 1 0 1 0 1 1 1 1 1 0]\n"
     ]
    }
   ],
   "source": [
    "#Step2: Data Encode\n",
    "le = preprocessing.LabelEncoder()\n",
    "Outlook_encoded=le.fit_transform(Outlook)\n",
    "Temperature_encoded=le.fit_transform(temperature)\n",
    "Humidity_encoded=le.fit_transform(humidity)\n",
    "Windy_encoded=le.fit_transform(windy)\n",
    "label= le.fit_transform(play)\n",
    "print(Outlook_encoded)\n",
    "print(Temperature_encoded)\n",
    "print(Humidity_encoded)\n",
    "print(Windy_encoded)\n",
    "print(label)"
   ]
  },
  {
   "cell_type": "markdown",
   "metadata": {},
   "source": [
    "Outlook: 0) Overcast 1)Rain 2)Sunny\n",
    "Temp: 0) Cold 1)Hot 2)Mild\n",
    "Humidity: 0)High 1)Normal\n",
    "Windy: 0)False 1)True\n",
    "Play: 0)N 1)P"
   ]
  },
  {
   "cell_type": "code",
   "execution_count": 5,
   "metadata": {},
   "outputs": [
    {
     "name": "stdout",
     "output_type": "stream",
     "text": [
      "[[2, 1, 0, 0], [2, 1, 0, 1], [0, 1, 0, 0], [1, 2, 0, 0], [1, 0, 1, 0], [1, 0, 1, 1], [0, 0, 1, 1], [2, 2, 0, 0], [2, 0, 1, 0], [1, 2, 1, 0], [2, 2, 1, 1], [0, 2, 0, 1], [0, 1, 1, 0], [1, 2, 0, 1]]\n"
     ]
    }
   ],
   "source": [
    "#Step3: Features\n",
    "features = []\n",
    "for i in range(len(Outlook_encoded)):\n",
    "  features.append([Outlook_encoded[i],\n",
    "                   Temperature_encoded[i],\n",
    "                   Humidity_encoded[i],\n",
    "                   Windy_encoded[i]\n",
    "                    ])\n",
    "print(features)"
   ]
  },
  {
   "cell_type": "code",
   "execution_count": 6,
   "metadata": {},
   "outputs": [
    {
     "data": {
      "text/plain": [
       "GaussianNB()"
      ]
     },
     "execution_count": 6,
     "metadata": {},
     "output_type": "execute_result"
    }
   ],
   "source": [
    "#Import Gaussian Naive Bayes model\n",
    "from sklearn.naive_bayes import GaussianNB\n",
    "\n",
    "#Create a Gaussian Classifier\n",
    "model = GaussianNB()\n",
    "\n",
    "# Train the model using the training sets\n",
    "model.fit(features,label)"
   ]
  },
  {
   "cell_type": "code",
   "execution_count": 7,
   "metadata": {},
   "outputs": [
    {
     "name": "stdout",
     "output_type": "stream",
     "text": [
      "Predicted Value: [0]\n",
      "The probability of 0(No) are: 0.8006878062741724\n",
      "The probability of 1(Si) are: 0.19931219372582767\n"
     ]
    }
   ],
   "source": [
    "predicted= model.predict([[2,1,0,0]]) # 2:Sunnt, 1:Hot,0:High,0:False\n",
    "predicted2= model.predict_proba([[2,1,0,0]]) \n",
    "print(\"Predicted Value:\", predicted)\n",
    "print(\"The probability of 0(No) are:\", predicted2[0][0])\n",
    "print(\"The probability of 1(Yes) are:\", predicted2[0][1])"
   ]
  },
  {
   "cell_type": "markdown",
   "metadata": {},
   "source": [
    "For the point 2)whether to go to play or not in a different situation? (for example, will you go to play if the outlook is overcast and the humidity is high).\n",
    "\n",
    "We need to train the model for the features: outlook and humidy"
   ]
  },
  {
   "cell_type": "code",
   "execution_count": 8,
   "metadata": {},
   "outputs": [
    {
     "name": "stdout",
     "output_type": "stream",
     "text": [
      "[[2, 0], [2, 0], [0, 0], [1, 0], [1, 1], [1, 1], [0, 1], [2, 0], [2, 1], [1, 1], [2, 1], [0, 0], [0, 1], [1, 0]]\n"
     ]
    }
   ],
   "source": [
    "features = []\n",
    "for i in range(len(Outlook_encoded)):\n",
    "  features.append([Outlook_encoded[i],\n",
    "                   Humidity_encoded[i]\n",
    "                    ])\n",
    "print(features)"
   ]
  },
  {
   "cell_type": "code",
   "execution_count": 9,
   "metadata": {},
   "outputs": [
    {
     "data": {
      "text/plain": [
       "GaussianNB()"
      ]
     },
     "execution_count": 9,
     "metadata": {},
     "output_type": "execute_result"
    }
   ],
   "source": [
    "model.fit(features,label)"
   ]
  },
  {
   "cell_type": "code",
   "execution_count": 11,
   "metadata": {},
   "outputs": [
    {
     "name": "stdout",
     "output_type": "stream",
     "text": [
      "Predicted Value: [1]\n",
      "The probability of 0(No) are: 0.019464189016725426\n",
      "The probability of 1(Si) are: 0.9805358109832744\n"
     ]
    }
   ],
   "source": [
    "predicted= model.predict([[0,0]]) # 0:Overcast, 0:High\n",
    "predicted2= model.predict_proba([[0,0]]) \n",
    "print(\"Predicted Value:\", predicted)\n",
    "print(\"The probability of 0(No) are:\", predicted2[0][0])\n",
    "print(\"The probability of 1(Yes) are:\", predicted2[0][1])"
   ]
  }
 ],
 "metadata": {
  "kernelspec": {
   "display_name": "Python 3.9.12 ('base')",
   "language": "python",
   "name": "python3"
  },
  "language_info": {
   "codemirror_mode": {
    "name": "ipython",
    "version": 3
   },
   "file_extension": ".py",
   "mimetype": "text/x-python",
   "name": "python",
   "nbconvert_exporter": "python",
   "pygments_lexer": "ipython3",
   "version": "3.9.12"
  },
  "orig_nbformat": 4,
  "vscode": {
   "interpreter": {
    "hash": "7dfe837d9abe60ccecf429b9ab77af3d0a437a39d9bff9b733f4e1b2ae25623a"
   }
  }
 },
 "nbformat": 4,
 "nbformat_minor": 2
}
